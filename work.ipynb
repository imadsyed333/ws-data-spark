{
 "cells": [
  {
   "cell_type": "code",
   "execution_count": 1,
   "id": "6c8cb8a1-1c38-4cdc-87e3-1b5892664d2d",
   "metadata": {},
   "outputs": [],
   "source": [
    "from pyspark.sql import SparkSession\n",
    "\n",
    "spark = SparkSession.builder.master('local').getOrCreate()"
   ]
  },
  {
   "cell_type": "code",
   "execution_count": 2,
   "id": "16dd8cb0-af43-4268-b92f-fc77f4bfd18d",
   "metadata": {},
   "outputs": [
    {
     "name": "stdout",
     "output_type": "stream",
     "text": [
      "root\n",
      " |-- _ID: integer (nullable = true)\n",
      " |--  TimeSt: timestamp (nullable = true)\n",
      " |-- Country: string (nullable = true)\n",
      " |-- Province: string (nullable = true)\n",
      " |-- City: string (nullable = true)\n",
      " |-- Latitude: double (nullable = true)\n",
      " |-- Longitude: double (nullable = true)\n",
      "\n"
     ]
    }
   ],
   "source": [
    "import os\n",
    "\n",
    "df = spark.read.options(\n",
    "    header='True',\n",
    "    inferSchema='True',\n",
    "    delimiter=',',\n",
    ").csv(os.path.expanduser('~/data/DataSample.csv'))\n",
    "df.printSchema()\n"
   ]
  },
  {
   "cell_type": "code",
   "execution_count": 27,
   "id": "89252a60-3931-4d55-8943-b1cb908a2d97",
   "metadata": {},
   "outputs": [],
   "source": [
    "#### Problem 1: filtering out suspicious requests\n",
    "\n",
    "df = df.dropDuplicates([' TimeSt', 'Country', 'Province', 'City', 'Latitude', 'Longitude'])"
   ]
  },
  {
   "cell_type": "code",
   "execution_count": 28,
   "id": "0099b255-96f7-4ea6-8cff-7c75cd85e455",
   "metadata": {},
   "outputs": [],
   "source": [
    "import math\n",
    "from pyspark.sql.functions import stddev, avg\n",
    "\n",
    "#### Problem 2: Assigning requests to closest POI\n",
    "\n",
    "# DataFrame of POIs\n",
    "poi = spark.read.options(\n",
    "    header='True',\n",
    "    inferSchema='True',\n",
    "    delimiter=',',\n",
    ").csv(os.path.expanduser('~/data/POIList.csv'))\n",
    "\n",
    "# Removing suspicious POIs\n",
    "poi = poi.dropDuplicates([' Latitude', 'Longitude'])\n",
    "\n",
    "# POI class to help with assigning requests\n",
    "class POI:\n",
    "    def __init__(self, poi_id, latitude, longitude):\n",
    "        self.poi_id = poi_id\n",
    "        self.latitude = latitude\n",
    "        self.longitude = longitude\n",
    "        self.requests = []\n",
    "        self.dataFrame = None\n",
    "        self.std_dev = 0\n",
    "        self.avg = 0\n",
    "        self.radius = 0\n",
    "        self.area = 0\n",
    "        self.density = 0\n",
    "\n",
    "poi_list = []\n",
    "\n",
    "# Creating a list of POI objects\n",
    "for row in poi.rdd.collect():\n",
    "    poi_list.append(POI(row['POIID'], row[' Latitude'], row['Longitude']))\n",
    "\n",
    "# Distance function\n",
    "def distance(x1, x2, y1, y2):\n",
    "    return math.sqrt((x1 - x2)**2 + (y1 - y2)**2)\n",
    "\n",
    "# Assigning requests to the closest POI\n",
    "for i, row in enumerate(df.rdd.collect()):\n",
    "    distance_list = []\n",
    "    request = {'id': row['_ID'], 'latitude': row['Latitude'], 'longitude': row['Longitude']}\n",
    "    for poi in poi_list:\n",
    "        distance_list.append(distance(request['latitude'], poi.latitude, request['longitude'], poi.longitude))\n",
    "    min_distance = min(distance_list)\n",
    "    request['distance'] = min_distance\n",
    "    nearest_poi_index = distance_list.index(min_distance)\n",
    "    nearest_poi = poi_list[nearest_poi_index]\n",
    "    nearest_poi.requests.append(request)\n",
    "\n"
   ]
  },
  {
   "cell_type": "code",
   "execution_count": 31,
   "id": "d1755899-4f15-48f3-a629-cbed46eb06e9",
   "metadata": {},
   "outputs": [
    {
     "name": "stdout",
     "output_type": "stream",
     "text": [
      "POIID: POI4 | standard deviation: 28.675130269811 | average: 8.810410862715715\n",
      "POIID: POI3 | standard deviation: 2.8586897295404947 | average: 5.537950830488918\n",
      "POIID: POI1 | standard deviation: 3.8584895715706744 | average: 3.3481830063255758\n"
     ]
    }
   ],
   "source": [
    "#### PROBLEM 3 IS FROM THE DATA SCIENCE TRACK\n",
    "\n",
    "#### Problem 3.1: For each POI, calculating average and standard deviation for the distance between POI and requests\n",
    "\n",
    "# for each POI, creating a data frame of its requests, then calculating average and standard deviation using its data frame of requests\n",
    "\n",
    "for poi in poi_list:\n",
    "    poi.dataFrame = spark.createDataFrame(poi.requests)\n",
    "    df_stats = poi.dataFrame.select(stddev('distance').alias('stddev'), avg('distance').alias('avg')).collect()\n",
    "    poi.std_dev = df_stats[0]['stddev']\n",
    "    poi.avg = df_stats[0]['avg']\n",
    "    print(\"POIID:\", poi.poi_id,\"| standard deviation:\", poi.std_dev,\"| average:\", poi.avg)\n",
    "    "
   ]
  },
  {
   "cell_type": "code",
   "execution_count": 30,
   "id": "e3799811-b99b-4614-a244-f208dbf67443",
   "metadata": {},
   "outputs": [
    {
     "name": "stdout",
     "output_type": "stream",
     "text": [
      "POIID: POI4 | radius: 192.7049913074258 | density (requests/area): 0.004148676408923476\n",
      "POIID: POI3 | radius: 20.155377791591437 | density (requests/area): 7.692137385787865\n",
      "POIID: POI1 | radius: 24.851937229893878 | density (requests/area): 4.998179064154918\n"
     ]
    },
    {
     "data": {
      "image/png": "[encoded data removed]",
      "text/plain": [
       "<Figure size 432x288 with 1 Axes>"
      ]
     },
     "metadata": {
      "needs_background": "light"
     },
     "output_type": "display_data"
    }
   ],
   "source": [
    "import matplotlib.pyplot as plt\n",
    "\n",
    "#### Problem 3.2: Plotting POIs and their requests, calculating radius and density\n",
    "\n",
    "figure, axes = plt.subplots()\n",
    "for poi in poi_list:\n",
    "    # Calculating radius\n",
    "    poi.radius = poi.dataFrame.agg({\"distance\": \"max\"}).collect()[0]['max(distance)']\n",
    "    \n",
    "    # Calculating area\n",
    "    poi.area = math.pi * (poi.radius)**2\n",
    "    \n",
    "    # Calculating density\n",
    "    poi.density = len(poi.requests) / poi.area\n",
    "    \n",
    "    # Printing results\n",
    "    print(\"POIID:\", poi.poi_id, \"| radius:\", poi.radius, \"| density (requests/area):\", poi.density)\n",
    "    \n",
    "    # Drawing circle\n",
    "    poi_circle = plt.Circle((poi.latitude, poi.longitude), poi.radius, fill=False)\n",
    "    axes.add_patch(poi_circle)\n",
    "    \n",
    "    # Plotting requests\n",
    "    for request in poi.requests:\n",
    "        plt.plot(request['latitude'], request['longitude'], marker=\"o\", markerfacecolor=\"red\")\n",
    "    \n",
    "# Creating graph\n",
    "axes.set_aspect(1)\n",
    "axes.set_xlabel('latitude')\n",
    "axes.set_ylabel('longitude')\n",
    "plt.ylim(-270, 150)\n",
    "plt.xlim(-200, 300)\n",
    "plt.title('POIs and Requests')\n",
    "plt.show()"
   ]
  },
  {
   "cell_type": "code",
   "execution_count": null,
   "id": "3aab119e-d143-4060-8c3d-81294f1bdbe9",
   "metadata": {},
   "outputs": [],
   "source": []
  }
 ],
 "metadata": {
  "kernelspec": {
   "display_name": "Python 3.10.5 64-bit",
   "language": "python",
   "name": "python3"
  },
  "language_info": {
   "codemirror_mode": {
    "name": "ipython",
    "version": 3
   },
   "file_extension": ".py",
   "mimetype": "text/x-python",
   "name": "python",
   "nbconvert_exporter": "python",
   "pygments_lexer": "ipython3",
   "version": "3.10.5"
  },
  "vscode": {
   "interpreter": {
    "hash": "369f2c481f4da34e4445cda3fffd2e751bd1c4d706f27375911949ba6bb62e1c"
   }
  }
 },
 "nbformat": 4,
 "nbformat_minor": 5
}
